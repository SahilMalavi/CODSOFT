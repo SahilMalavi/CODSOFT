{
  "nbformat": 4,
  "nbformat_minor": 0,
  "metadata": {
    "colab": {
      "provenance": [],
      "authorship_tag": "ABX9TyNfZe+rYwIeYykVxxfNN4Iq",
      "include_colab_link": true
    },
    "kernelspec": {
      "name": "python3",
      "display_name": "Python 3"
    },
    "language_info": {
      "name": "python"
    }
  },
  "cells": [
    {
      "cell_type": "markdown",
      "metadata": {
        "id": "view-in-github",
        "colab_type": "text"
      },
      "source": [
        "<a href=\"https://colab.research.google.com/github/SahilMalavi/CODSOFT/blob/Titanic-Servival-Prediction/Titanic_Servival_Prediction_TASK1.ipynb\" target=\"_parent\"><img src=\"https://colab.research.google.com/assets/colab-badge.svg\" alt=\"Open In Colab\"/></a>"
      ]
    },
    {
      "cell_type": "code",
      "source": [],
      "metadata": {
        "colab": {
          "base_uri": "https://localhost:8080/"
        },
        "id": "lCyu0IDOhk_L",
        "outputId": "d834aedd-c51c-4ae0-c1ea-037caabe11f3"
      },
      "execution_count": 3,
      "outputs": [
        {
          "output_type": "stream",
          "name": "stdout",
          "text": [
            "Cloning into 'Titanic-Servival-Prediction'...\n",
            "fatal: repository 'https://github.com/SahilMalavi/CODSOFT/tree/Titanic-Servival-Prediction/' not found\n"
          ]
        }
      ]
    }
  ]
}