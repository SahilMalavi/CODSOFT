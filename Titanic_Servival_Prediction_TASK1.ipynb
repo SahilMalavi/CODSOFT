{
  "nbformat": 4,
  "nbformat_minor": 0,
  "metadata": {
    "colab": {
      "provenance": [],
      "authorship_tag": "ABX9TyMg0HraqfDBE4xMFqqaxJSK",
      "include_colab_link": true
    },
    "kernelspec": {
      "name": "python3",
      "display_name": "Python 3"
    },
    "language_info": {
      "name": "python"
    }
  },
  "cells": [
    {
      "cell_type": "markdown",
      "metadata": {
        "id": "view-in-github",
        "colab_type": "text"
      },
      "source": [
        "<a href=\"https://colab.research.google.com/github/SahilMalavi/CODSOFT/blob/Titanic-Servival-Prediction/Titanic_Servival_Prediction_TASK1.ipynb\" target=\"_parent\"><img src=\"https://colab.research.google.com/assets/colab-badge.svg\" alt=\"Open In Colab\"/></a>"
      ]
    },
    {
      "cell_type": "code",
      "source": [
        "print(\"sahil\")"
      ],
      "metadata": {
        "id": "TQKDJmDAj3qi",
        "outputId": "b03cd496-4bd9-4c0c-9df7-8a726b964220",
        "colab": {
          "base_uri": "https://localhost:8080/"
        }
      },
      "execution_count": 1,
      "outputs": [
        {
          "output_type": "stream",
          "name": "stdout",
          "text": [
            "sahil\n"
          ]
        }
      ]
    }
  ]
}